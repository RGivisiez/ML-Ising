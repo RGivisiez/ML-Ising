{
 "cells": [
  {
   "cell_type": "markdown",
   "metadata": {},
   "source": [
    "# Using CNN to study the Ising model phase transitions"
   ]
  },
  {
   "cell_type": "markdown",
   "metadata": {},
   "source": [
    "This notebook is based on the paper **[Machine learning phases of matter][ml]**. However, most of the visualizations found in the end was based on **[Grad-CAM][viz2]** and **[?]**\n",
    "\n",
    "\n",
    "[ml]:http://dx.doi.org/10.1038/nphys4035\n",
    "[viz2]:https://doi.org/10.1109/ICCV.2017.74"
   ]
  },
  {
   "cell_type": "code",
   "execution_count": 1,
   "metadata": {},
   "outputs": [
    {
     "name": "stderr",
     "output_type": "stream",
     "text": [
      "Using TensorFlow backend.\n"
     ]
    }
   ],
   "source": [
    "import pandas as pd\n",
    "import numpy as np\n",
    "import matplotlib.pyplot as plt\n",
    "import pickle,os\n",
    "import tensorflow as tf\n",
    "from tensorflow import keras\n",
    "from keras.models import Sequential\n",
    "from keras.layers import Dense, Conv2D, Flatten, Dropout, MaxPooling2D\n",
    "from keras import regularizers, optimizers\n",
    "from keras.callbacks import ModelCheckpoint \n",
    "import sys, os\n",
    "from sklearn.model_selection import train_test_split\n",
    "from keras.utils import to_categorical\n",
    "os.environ['TF_CPP_MIN_LOG_LEVEL'] = '2'"
   ]
  },
  {
   "cell_type": "markdown",
   "metadata": {},
   "source": [
    "#### Parameters plot "
   ]
  },
  {
   "cell_type": "code",
   "execution_count": 2,
   "metadata": {},
   "outputs": [],
   "source": [
    "#plt.rcParams['figure.figsize'] = [6.32, 5.11]\n",
    "#plt.rcParams['figure.constrained_layout.use'] = True\n",
    "\n",
    "plt.rcParams['axes.titlesize'] = 20\n",
    "plt.rcParams['axes.labelsize'] = 20\n",
    "plt.rcParams['axes.linewidth'] = 3\n",
    "plt.rcParams['axes.labelpad'] = 15\n",
    "\n",
    "plt.rcParams['xtick.labelsize'] = 16\n",
    "plt.rcParams['xtick.major.size'] = 8\n",
    "plt.rcParams['xtick.major.width'] = 3\n",
    "\n",
    "plt.rcParams['ytick.labelsize'] = 16\n",
    "plt.rcParams['ytick.major.size'] = 8\n",
    "plt.rcParams['ytick.major.width'] = 3\n",
    "\n",
    "plt.rcParams['legend.fontsize'] = 14\n",
    "plt.rcParams['legend.markerscale'] = 1\n",
    "\n",
    "plt.rcParams['lines.markersize'] = 9\n",
    "plt.rcParams['lines.linewidth'] = 2"
   ]
  },
  {
   "cell_type": "code",
   "execution_count": 3,
   "metadata": {},
   "outputs": [],
   "source": [
    "path = '../Data/'\n",
    "dataset_name = 'Ising2DFM_reSample_L40_T=All.pkl'\n",
    "dataset_label_name = 'Ising2DFM_reSample_L40_T=All_labels.pkl'"
   ]
  },
  {
   "cell_type": "code",
   "execution_count": 4,
   "metadata": {},
   "outputs": [],
   "source": [
    "# Lattice size.\n",
    "L = 40\n",
    "\n",
    "# Temperatures values.\n",
    "temp_val = np.arange(0.25, 4.0001, 0.25)\n",
    "\n",
    "# Number of samples simulated in each temperature.\n",
    "temp_samples = 10000\n",
    "\n",
    "# Total number o samples.\n",
    "total_samples = temp_samples * temp_val.shape[0]\n",
    "\n",
    "# Dataset test size.\n",
    "test_size = 0.1\n",
    "\n",
    "# Dataset validattion size.\n",
    "val_size = 0.2"
   ]
  },
  {
   "cell_type": "code",
   "execution_count": 5,
   "metadata": {},
   "outputs": [],
   "source": [
    "# Loading the dataset.\n",
    "data = pickle.load(open(path + dataset_name,'rb'))\n",
    "data = np.unpackbits(data).reshape(-1, L * L).astype(float)\n",
    "\n",
    "# This dataset has values 0 or 1, but Ising model has values -1 and 1.\n",
    "data[np.where(data==0)]=-1\n",
    "\n",
    "# Loading the dataset labels.\n",
    "#labels = pickle.load(open(path + dataset_label_name,'rb'))"
   ]
  },
  {
   "cell_type": "code",
   "execution_count": 6,
   "metadata": {},
   "outputs": [],
   "source": [
    "# Build temperatures labels for every sample.\n",
    "temp_labels = np.hstack([np.repeat(temp, temp_samples) for temp in temp_val])"
   ]
  },
  {
   "cell_type": "code",
   "execution_count": 7,
   "metadata": {},
   "outputs": [],
   "source": [
    "from keras.utils import to_categorical\n",
    "labels = to_categorical(temp_labels, temp_val.shape[0])"
   ]
  },
  {
   "cell_type": "code",
   "execution_count": 8,
   "metadata": {},
   "outputs": [],
   "source": [
    "X = data\n",
    "Y = np.column_stack((labels, temp_labels))\n",
    "    \n",
    "del data, labels"
   ]
  },
  {
   "cell_type": "code",
   "execution_count": 9,
   "metadata": {},
   "outputs": [],
   "source": [
    "# Split train, test and validation.\n",
    "\n",
    "X_train, X_test, Y_train, Y_test = train_test_split(X, Y, test_size=test_size)\n",
    "\n",
    "X_train, X_val, Y_train, Y_val = train_test_split(X_train, Y_train, test_size=val_size)\n",
    "\n",
    "del X, Y"
   ]
  },
  {
   "cell_type": "code",
   "execution_count": 11,
   "metadata": {},
   "outputs": [],
   "source": [
    "# Reshape all array (L*L) in images (L,L).\n",
    "\n",
    "X_train = np.reshape(X_train, (X_train.shape[0], L, L, 1))\n",
    "X_test = np.reshape(X_test, (X_test.shape[0], L, L, 1))\n",
    "X_val = np.reshape(X_val, (X_val.shape[0], L, L, 1))"
   ]
  },
  {
   "cell_type": "code",
   "execution_count": 12,
   "metadata": {},
   "outputs": [
    {
     "name": "stdout",
     "output_type": "stream",
     "text": [
      "WARNING:tensorflow:From /home/ronaldo/anaconda3/envs/data/lib/python3.7/site-packages/keras/backend/tensorflow_backend.py:4070: The name tf.nn.max_pool is deprecated. Please use tf.nn.max_pool2d instead.\n",
      "\n"
     ]
    }
   ],
   "source": [
    "# Creat the model.\n",
    "\n",
    "model = Sequential()\n",
    "\n",
    "model.add(Conv2D(filters=128, kernel_size=(5, 5), activation='tanh', input_shape=(L, L, 1)))\n",
    "\n",
    "model.add(MaxPooling2D(pool_size=(2, 2)))\n",
    "\n",
    "model.add(Conv2D(filters=64, kernel_size=(3, 3), activation='relu'))\n",
    "\n",
    "model.add(MaxPooling2D(pool_size=(2, 2)))\n",
    "\n",
    "model.add(Flatten())\n",
    "\n",
    "model.add(Dense(720, activation='relu'))\n",
    "\n",
    "#model.add(Dropout(0.5))\n",
    "          \n",
    "model.add(Dense(temp_val.shape[0], activation='softmax'))\n",
    "\n",
    "model.compile(optimizer='adam',\n",
    "              loss='categorical_crossentropy',\n",
    "              metrics=['accuracy'])"
   ]
  },
  {
   "cell_type": "code",
   "execution_count": 13,
   "metadata": {},
   "outputs": [
    {
     "name": "stdout",
     "output_type": "stream",
     "text": [
      "Model: \"sequential_1\"\n",
      "_________________________________________________________________\n",
      "Layer (type)                 Output Shape              Param #   \n",
      "=================================================================\n",
      "conv2d_1 (Conv2D)            (None, 36, 36, 128)       3328      \n",
      "_________________________________________________________________\n",
      "max_pooling2d_1 (MaxPooling2 (None, 18, 18, 128)       0         \n",
      "_________________________________________________________________\n",
      "conv2d_2 (Conv2D)            (None, 16, 16, 64)        73792     \n",
      "_________________________________________________________________\n",
      "max_pooling2d_2 (MaxPooling2 (None, 8, 8, 64)          0         \n",
      "_________________________________________________________________\n",
      "flatten_1 (Flatten)          (None, 4096)              0         \n",
      "_________________________________________________________________\n",
      "dense_1 (Dense)              (None, 720)               2949840   \n",
      "_________________________________________________________________\n",
      "dense_2 (Dense)              (None, 16)                11536     \n",
      "=================================================================\n",
      "Total params: 3,038,496\n",
      "Trainable params: 3,038,496\n",
      "Non-trainable params: 0\n",
      "_________________________________________________________________\n"
     ]
    }
   ],
   "source": [
    "model.summary()"
   ]
  },
  {
   "cell_type": "code",
   "execution_count": 14,
   "metadata": {},
   "outputs": [
    {
     "name": "stdout",
     "output_type": "stream",
     "text": [
      "WARNING:tensorflow:From /home/ronaldo/anaconda3/envs/data/lib/python3.7/site-packages/keras/backend/tensorflow_backend.py:422: The name tf.global_variables is deprecated. Please use tf.compat.v1.global_variables instead.\n",
      "\n",
      "Epoch 1/37\n",
      "144000/144000 [==============================] - 37s 254us/step - loss: 0.3940 - accuracy: 0.8242\n",
      "Epoch 2/37\n",
      "144000/144000 [==============================] - 35s 246us/step - loss: 0.3195 - accuracy: 0.8648\n",
      "Epoch 3/37\n",
      "144000/144000 [==============================] - 35s 243us/step - loss: 0.2925 - accuracy: 0.8772\n",
      "Epoch 4/37\n",
      "144000/144000 [==============================] - 35s 243us/step - loss: 0.2799 - accuracy: 0.8853\n",
      "Epoch 5/37\n",
      "144000/144000 [==============================] - 35s 243us/step - loss: 0.2686 - accuracy: 0.8894\n",
      "Epoch 6/37\n",
      "144000/144000 [==============================] - 35s 244us/step - loss: 0.2692 - accuracy: 0.8899\n",
      "Epoch 7/37\n",
      "144000/144000 [==============================] - 35s 243us/step - loss: 0.2548 - accuracy: 0.8961\n",
      "Epoch 8/37\n",
      "144000/144000 [==============================] - 35s 245us/step - loss: 0.2523 - accuracy: 0.8985\n",
      "Epoch 9/37\n",
      "144000/144000 [==============================] - 35s 245us/step - loss: 0.2441 - accuracy: 0.9020\n",
      "Epoch 10/37\n",
      "144000/144000 [==============================] - 35s 245us/step - loss: 0.2342 - accuracy: 0.9063\n",
      "Epoch 11/37\n",
      "144000/144000 [==============================] - 35s 246us/step - loss: 0.2257 - accuracy: 0.9102\n",
      "Epoch 12/37\n",
      "144000/144000 [==============================] - 35s 246us/step - loss: 0.2165 - accuracy: 0.9150\n",
      "Epoch 13/37\n",
      "144000/144000 [==============================] - 35s 244us/step - loss: 0.2111 - accuracy: 0.9172\n",
      "Epoch 14/37\n",
      "144000/144000 [==============================] - 35s 244us/step - loss: 0.1944 - accuracy: 0.9250\n",
      "Epoch 15/37\n",
      "144000/144000 [==============================] - 35s 246us/step - loss: 0.1875 - accuracy: 0.9278\n",
      "Epoch 16/37\n",
      "144000/144000 [==============================] - 35s 245us/step - loss: 0.1836 - accuracy: 0.9297\n",
      "Epoch 17/37\n",
      "144000/144000 [==============================] - 34s 239us/step - loss: 0.1727 - accuracy: 0.9354\n",
      "Epoch 18/37\n",
      "144000/144000 [==============================] - 34s 238us/step - loss: 0.1671 - accuracy: 0.9372\n",
      "Epoch 19/37\n",
      "144000/144000 [==============================] - 34s 239us/step - loss: 0.1641 - accuracy: 0.9391\n",
      "Epoch 20/37\n",
      "144000/144000 [==============================] - 34s 238us/step - loss: 0.1601 - accuracy: 0.9405\n",
      "Epoch 21/37\n",
      "144000/144000 [==============================] - 34s 238us/step - loss: 0.1519 - accuracy: 0.9440\n",
      "Epoch 22/37\n",
      "144000/144000 [==============================] - 34s 239us/step - loss: 0.1497 - accuracy: 0.9451\n",
      "Epoch 23/37\n",
      "144000/144000 [==============================] - 34s 238us/step - loss: 0.1486 - accuracy: 0.9454\n",
      "Epoch 24/37\n",
      "144000/144000 [==============================] - 34s 239us/step - loss: 0.1444 - accuracy: 0.9470\n",
      "Epoch 25/37\n",
      "144000/144000 [==============================] - 34s 239us/step - loss: 0.1396 - accuracy: 0.9490\n",
      "Epoch 26/37\n",
      "144000/144000 [==============================] - 34s 239us/step - loss: 0.1415 - accuracy: 0.9485\n",
      "Epoch 27/37\n",
      "144000/144000 [==============================] - 34s 239us/step - loss: 0.1443 - accuracy: 0.9470\n",
      "Epoch 28/37\n",
      "144000/144000 [==============================] - 34s 238us/step - loss: 0.1360 - accuracy: 0.9503\n",
      "Epoch 29/37\n",
      "144000/144000 [==============================] - 34s 239us/step - loss: 0.1371 - accuracy: 0.9503\n",
      "Epoch 30/37\n",
      "144000/144000 [==============================] - 34s 238us/step - loss: 0.1378 - accuracy: 0.9498\n",
      "Epoch 31/37\n",
      "144000/144000 [==============================] - 34s 239us/step - loss: 0.1352 - accuracy: 0.9508\n",
      "Epoch 32/37\n",
      "144000/144000 [==============================] - 34s 239us/step - loss: 0.1381 - accuracy: 0.9496\n",
      "Epoch 33/37\n",
      "144000/144000 [==============================] - 36s 247us/step - loss: 0.1311 - accuracy: 0.9523\n",
      "Epoch 34/37\n",
      "144000/144000 [==============================] - 36s 247us/step - loss: 0.1348 - accuracy: 0.9510\n",
      "Epoch 35/37\n",
      "144000/144000 [==============================] - 35s 244us/step - loss: 0.1312 - accuracy: 0.9524\n",
      "Epoch 36/37\n",
      "144000/144000 [==============================] - 35s 244us/step - loss: 0.1319 - accuracy: 0.9520\n",
      "Epoch 37/37\n",
      "144000/144000 [==============================] - 35s 244us/step - loss: 0.1330 - accuracy: 0.9514\n"
     ]
    }
   ],
   "source": [
    "# Train the model.\n",
    "history = model.fit(X_train, Y_train[:, 0:-1], validation_data=(X_val, Y_val[:, 0:-1]), batch_size=128, epochs=37)"
   ]
  },
  {
   "cell_type": "code",
   "execution_count": 15,
   "metadata": {},
   "outputs": [
    {
     "name": "stdout",
     "output_type": "stream",
     "text": [
      "Test accuracy: 0.8769 \n",
      "Test loss: 0.7577\n"
     ]
    }
   ],
   "source": [
    "# Calculate test scores.\n",
    "score = model.evaluate(X_test, Y_test[:, 0:-1], verbose=0)\n",
    "print('Test accuracy: {1:6.4f} \\nTest loss: {0:6.4f}'.format(score[0], score[1]))"
   ]
  },
  {
   "cell_type": "code",
   "execution_count": 16,
   "metadata": {},
   "outputs": [
    {
     "ename": "KeyError",
     "evalue": "'val_loss'",
     "output_type": "error",
     "traceback": [
      "\u001b[0;31m---------------------------------------------------------------------------\u001b[0m",
      "\u001b[0;31mKeyError\u001b[0m                                  Traceback (most recent call last)",
      "\u001b[0;32m<ipython-input-16-729bd13c492f>\u001b[0m in \u001b[0;36m<module>\u001b[0;34m\u001b[0m\n\u001b[1;32m      1\u001b[0m \u001b[0;31m# Plot training & validation accuracy values\u001b[0m\u001b[0;34m\u001b[0m\u001b[0;34m\u001b[0m\u001b[0;34m\u001b[0m\u001b[0m\n\u001b[1;32m      2\u001b[0m \u001b[0mplt\u001b[0m\u001b[0;34m.\u001b[0m\u001b[0mplot\u001b[0m\u001b[0;34m(\u001b[0m\u001b[0mhistory\u001b[0m\u001b[0;34m.\u001b[0m\u001b[0mhistory\u001b[0m\u001b[0;34m[\u001b[0m\u001b[0;34m'loss'\u001b[0m\u001b[0;34m]\u001b[0m\u001b[0;34m)\u001b[0m\u001b[0;34m\u001b[0m\u001b[0;34m\u001b[0m\u001b[0m\n\u001b[0;32m----> 3\u001b[0;31m \u001b[0mplt\u001b[0m\u001b[0;34m.\u001b[0m\u001b[0mplot\u001b[0m\u001b[0;34m(\u001b[0m\u001b[0mhistory\u001b[0m\u001b[0;34m.\u001b[0m\u001b[0mhistory\u001b[0m\u001b[0;34m[\u001b[0m\u001b[0;34m'val_loss'\u001b[0m\u001b[0;34m]\u001b[0m\u001b[0;34m)\u001b[0m\u001b[0;34m\u001b[0m\u001b[0;34m\u001b[0m\u001b[0m\n\u001b[0m\u001b[1;32m      4\u001b[0m \u001b[0mplt\u001b[0m\u001b[0;34m.\u001b[0m\u001b[0mtitle\u001b[0m\u001b[0;34m(\u001b[0m\u001b[0;34m'Model accuracy'\u001b[0m\u001b[0;34m)\u001b[0m\u001b[0;34m\u001b[0m\u001b[0;34m\u001b[0m\u001b[0m\n\u001b[1;32m      5\u001b[0m \u001b[0mplt\u001b[0m\u001b[0;34m.\u001b[0m\u001b[0mylabel\u001b[0m\u001b[0;34m(\u001b[0m\u001b[0;34m'Loss'\u001b[0m\u001b[0;34m)\u001b[0m\u001b[0;34m\u001b[0m\u001b[0;34m\u001b[0m\u001b[0m\n",
      "\u001b[0;31mKeyError\u001b[0m: 'val_loss'"
     ]
    },
    {
     "data": {
      "image/png": "[encoded data removed]",
      "text/plain": [
       "<Figure size 432x288 with 1 Axes>"
      ]
     },
     "metadata": {
      "needs_background": "light"
     },
     "output_type": "display_data"
    }
   ],
   "source": [
    "# Plot training & validation accuracy values\n",
    "plt.plot(history.history['loss'])\n",
    "plt.plot(history.history['val_loss'])\n",
    "plt.title('Model accuracy')\n",
    "plt.ylabel('Loss')\n",
    "plt.xlabel('Epoch')\n",
    "plt.legend(['Train', 'Validation'], loc='upper right')\n",
    "plt.show()"
   ]
  },
  {
   "cell_type": "code",
   "execution_count": 17,
   "metadata": {},
   "outputs": [
    {
     "ename": "KeyError",
     "evalue": "'val_accuracy'",
     "output_type": "error",
     "traceback": [
      "\u001b[0;31m---------------------------------------------------------------------------\u001b[0m",
      "\u001b[0;31mKeyError\u001b[0m                                  Traceback (most recent call last)",
      "\u001b[0;32m<ipython-input-17-26413da12b65>\u001b[0m in \u001b[0;36m<module>\u001b[0;34m\u001b[0m\n\u001b[1;32m      1\u001b[0m \u001b[0;31m# Plot training & validation accuracy values\u001b[0m\u001b[0;34m\u001b[0m\u001b[0;34m\u001b[0m\u001b[0;34m\u001b[0m\u001b[0m\n\u001b[1;32m      2\u001b[0m \u001b[0mplt\u001b[0m\u001b[0;34m.\u001b[0m\u001b[0mplot\u001b[0m\u001b[0;34m(\u001b[0m\u001b[0mhistory\u001b[0m\u001b[0;34m.\u001b[0m\u001b[0mhistory\u001b[0m\u001b[0;34m[\u001b[0m\u001b[0;34m'accuracy'\u001b[0m\u001b[0;34m]\u001b[0m\u001b[0;34m)\u001b[0m\u001b[0;34m\u001b[0m\u001b[0;34m\u001b[0m\u001b[0m\n\u001b[0;32m----> 3\u001b[0;31m \u001b[0mplt\u001b[0m\u001b[0;34m.\u001b[0m\u001b[0mplot\u001b[0m\u001b[0;34m(\u001b[0m\u001b[0mhistory\u001b[0m\u001b[0;34m.\u001b[0m\u001b[0mhistory\u001b[0m\u001b[0;34m[\u001b[0m\u001b[0;34m'val_accuracy'\u001b[0m\u001b[0;34m]\u001b[0m\u001b[0;34m)\u001b[0m\u001b[0;34m\u001b[0m\u001b[0;34m\u001b[0m\u001b[0m\n\u001b[0m\u001b[1;32m      4\u001b[0m \u001b[0mplt\u001b[0m\u001b[0;34m.\u001b[0m\u001b[0mtitle\u001b[0m\u001b[0;34m(\u001b[0m\u001b[0;34m'Model accuracy'\u001b[0m\u001b[0;34m)\u001b[0m\u001b[0;34m\u001b[0m\u001b[0;34m\u001b[0m\u001b[0m\n\u001b[1;32m      5\u001b[0m \u001b[0mplt\u001b[0m\u001b[0;34m.\u001b[0m\u001b[0mylabel\u001b[0m\u001b[0;34m(\u001b[0m\u001b[0;34m'Accuracy'\u001b[0m\u001b[0;34m)\u001b[0m\u001b[0;34m\u001b[0m\u001b[0;34m\u001b[0m\u001b[0m\n",
      "\u001b[0;31mKeyError\u001b[0m: 'val_accuracy'"
     ]
    },
    {
     "data": {
      "image/png": "[encoded data removed]",
      "text/plain": [
       "<Figure size 432x288 with 1 Axes>"
      ]
     },
     "metadata": {
      "needs_background": "light"
     },
     "output_type": "display_data"
    }
   ],
   "source": [
    "# Plot training & validation accuracy values\n",
    "plt.plot(history.history['accuracy'])\n",
    "plt.plot(history.history['val_accuracy'])\n",
    "plt.title('Model accuracy')\n",
    "plt.ylabel('Accuracy')\n",
    "plt.xlabel('Epoch')\n",
    "plt.legend(['Train', 'Validation'], loc='lower right')\n",
    "plt.show()"
   ]
  },
  {
   "cell_type": "code",
   "execution_count": 18,
   "metadata": {},
   "outputs": [],
   "source": [
    "# Get datast test predictions.\n",
    "res_test = model.predict(X_test)"
   ]
  },
  {
   "cell_type": "code",
   "execution_count": 19,
   "metadata": {},
   "outputs": [
    {
     "data": {
      "image/png": "[encoded data removed]",
      "text/plain": [
       "<Figure size 432x288 with 1 Axes>"
      ]
     },
     "metadata": {
      "needs_background": "light"
     },
     "output_type": "display_data"
    }
   ],
   "source": [
    "# Accuracy plot for every temperature.\n",
    "\n",
    "acc = np.zeros(temp_val.shape[0])\n",
    "acc_std = np.zeros(temp_val.shape[0])\n",
    "\n",
    "for idx, temp in enumerate(temp_val):\n",
    "    \n",
    "    \n",
    "    pos = np.argwhere(Y_test[:, -1] == temp)[:, 0]\n",
    "    \n",
    "    aux = res_test[pos, 0] - Y_test[pos, 0]\n",
    "    acc[idx] = np.mean(np.abs(aux))\n",
    "    acc_std[idx] = np.std(np.abs(aux))\n",
    "\n",
    "    \n",
    "    \n",
    "plt.errorbar(x=temp_val, y=acc,\n",
    "             yerr=acc_std, fmt='o', capsize=5)\n",
    "\n",
    "plt.xlabel('Temperature')\n",
    "plt.ylabel('Accuracy')\n",
    "plt.show()"
   ]
  },
  {
   "cell_type": "markdown",
   "metadata": {},
   "source": [
    "### adicionar comentários."
   ]
  },
  {
   "cell_type": "code",
   "execution_count": 20,
   "metadata": {},
   "outputs": [
    {
     "data": {
      "image/png": "[encoded data removed]",
      "text/plain": [
       "<Figure size 432x288 with 1 Axes>"
      ]
     },
     "metadata": {
      "needs_background": "light"
     },
     "output_type": "display_data"
    }
   ],
   "source": [
    "# Output value plot for every temperature.\n",
    "\n",
    "#%matplotlib notebook\n",
    "output_mean = np.zeros(temp_val.shape[0])\n",
    "output_std = np.zeros(temp_val.shape[0])\n",
    "\n",
    "for idx, temp in enumerate(temp_val):\n",
    "    \n",
    "       \n",
    "    pos = np.argwhere(Y_test[:, -1] == temp)[:, 0]\n",
    "    \n",
    "    output_mean[idx] = np.mean(res_test[pos])\n",
    "    output_std[idx] = np.std(res_test[pos])\n",
    "    \n",
    "plt.errorbar(x=temp_val, y=output_mean, yerr=output_std,\n",
    "             fmt='o', capsize=5, linestyle='--')\n",
    "\n",
    "plt.errorbar(x=temp_val, y=np.abs(output_mean - 1),\n",
    "             yerr=output_std, fmt='o', capsize=5, linestyle='--')\n",
    "\n",
    "plt.ylabel('Output')\n",
    "plt.xlabel('Temperature')\n",
    "plt.show()"
   ]
  },
  {
   "cell_type": "markdown",
   "metadata": {},
   "source": [
    "### adicionar comentários."
   ]
  },
  {
   "cell_type": "markdown",
   "metadata": {},
   "source": [
    "## CNN's kernels"
   ]
  },
  {
   "cell_type": "code",
   "execution_count": 31,
   "metadata": {},
   "outputs": [],
   "source": [
    "# Get filters values\n",
    "filters, biases = model.layers[0].get_weights()\n",
    "filters_number = filters.shape[-1]"
   ]
  },
  {
   "cell_type": "code",
   "execution_count": 36,
   "metadata": {},
   "outputs": [
    {
     "data": {
      "image/png": "[encoded data removed]",
      "text/plain": [
       "<Figure size 1440x432 with 4 Axes>"
      ]
     },
     "metadata": {},
     "output_type": "display_data"
    }
   ],
   "source": [
    "# Filters plot.\n",
    "from mpl_toolkits.axes_grid1.inset_locator import inset_axes\n",
    "\n",
    "fig, ax = plt.subplots(filters_number, figsize=[20,6])\n",
    "\n",
    "for idx in range(filters_number):\n",
    "    \n",
    "    f = filters[:, :, 0, idx]\n",
    "    \n",
    "    grid = np.ceil(filters_number / 6.).astype(np.int32)\n",
    "    \n",
    "    axis = plt.subplot(grid, 6, idx+1)\n",
    "    axis.set_xticks([])\n",
    "    axis.set_yticks([])\n",
    "    mp = axis.imshow(f, cmap='Greys')\n",
    "    plt.title('Filter ' + str(idx))\n",
    "    #fig.colorbar(mp, ax=axis)\n",
    "    \n",
    "plt.subplots_adjust(right=0.8, hspace=0.1, wspace=0.1)\n",
    "plt.show()"
   ]
  },
  {
   "cell_type": "code",
   "execution_count": 32,
   "metadata": {},
   "outputs": [],
   "source": [
    "from keras.models import Model\n",
    "\n",
    "# Get the first conv layer\n",
    "layer = model.layers[0]\n",
    "\n",
    "# Create a new model that receives a input with shape (40,40,1) and output\n",
    "# conv layer results.\n",
    "model_output = Model(inputs=model.inputs, outputs=layer.output)"
   ]
  },
  {
   "cell_type": "code",
   "execution_count": 33,
   "metadata": {},
   "outputs": [],
   "source": [
    "# Get predictions using the new model.\n",
    "predict = model_output.predict(X_test)"
   ]
  },
  {
   "cell_type": "code",
   "execution_count": 34,
   "metadata": {},
   "outputs": [],
   "source": [
    "# Indexs for critical, ordered and disordered regions.\n",
    "critical_id = np.where(Y_test==2.25)[0]\n",
    "ordered_id = np.where(Y_test==1.)[0]\n",
    "disordered_id = np.where(Y_test==4.)[0]"
   ]
  },
  {
   "cell_type": "code",
   "execution_count": 35,
   "metadata": {},
   "outputs": [],
   "source": [
    "def kernels_plot(filters_number, pred):\n",
    "    \n",
    "    fig, ax = plt.subplots(filters_number, figsize=[20, 12])\n",
    "\n",
    "    for f_idx in range(filters_number):\n",
    "    \n",
    "        f = pred[:, :, f_idx]\n",
    "        \n",
    "        grid = np.ceil(filters_number / 6.).astype(np.int32)\n",
    "\n",
    "        axis = plt.subplot(grid, 6, f_idx+1)\n",
    "        axis.set_xticks([])\n",
    "        axis.set_yticks([])\n",
    "        mp = axis.imshow(f, origin='lower', cmap='bone') #bone, copper, hot, afmhot\n",
    "        plt.title('Filter ' + str(f_idx))\n",
    "        #fig.colorbar(mp, ax=axis)\n",
    "    \n",
    "    fig.subplots_adjust(right=0.8, hspace=-0.5, wspace=0.1)\n",
    "    plt.show()"
   ]
  },
  {
   "cell_type": "code",
   "execution_count": 36,
   "metadata": {},
   "outputs": [
    {
     "data": {
      "image/png": "[encoded data removed]",
      "text/plain": [
       "<Figure size 432x288 with 1 Axes>"
      ]
     },
     "metadata": {
      "needs_background": "light"
     },
     "output_type": "display_data"
    },
    {
     "data": {
      "image/png": "[encoded data removed]",
      "text/plain": [
       "<Figure size 1440x864 with 3 Axes>"
      ]
     },
     "metadata": {},
     "output_type": "display_data"
    }
   ],
   "source": [
    "# Filters activations for a sample at critical region.\n",
    "\n",
    "# Index of critical samples.\n",
    "idx = 1\n",
    "\n",
    "plt.imshow(X_test[critical_id[idx], : , :, 0], origin='lower', cmap='Purples')\n",
    "plt.axis(False)\n",
    "plt.title(r'$T= $' + str(Y_test[critical_id[idx], 1]))\n",
    "plt.show()\n",
    "\n",
    "kernels_plot(filters_number, predict[critical_id[idx], :, :, :])"
   ]
  },
  {
   "cell_type": "code",
   "execution_count": 37,
   "metadata": {},
   "outputs": [
    {
     "data": {
      "image/png": "[encoded data removed]",
      "text/plain": [
       "<Figure size 432x288 with 1 Axes>"
      ]
     },
     "metadata": {
      "needs_background": "light"
     },
     "output_type": "display_data"
    },
    {
     "data": {
      "image/png": "[encoded data removed]",
      "text/plain": [
       "<Figure size 1440x864 with 3 Axes>"
      ]
     },
     "metadata": {},
     "output_type": "display_data"
    }
   ],
   "source": [
    "# Filters activations for a sample at critical region.\n",
    "\n",
    "# Index for ordered samples.\n",
    "idx = 2\n",
    "\n",
    "plt.imshow(X_test[ordered_id[idx], : , :, 0], origin='lower', cmap='Purples')\n",
    "plt.axis(False)\n",
    "plt.title(r'$T= $' + str(Y_test[ordered_id[idx], 1]))\n",
    "plt.show()\n",
    "\n",
    "kernels_plot(filters_number, predict[ordered_id[idx], :, :, :])"
   ]
  },
  {
   "cell_type": "code",
   "execution_count": 38,
   "metadata": {},
   "outputs": [
    {
     "data": {
      "image/png": "[encoded data removed]",
      "text/plain": [
       "<Figure size 432x288 with 1 Axes>"
      ]
     },
     "metadata": {
      "needs_background": "light"
     },
     "output_type": "display_data"
    },
    {
     "data": {
      "image/png": "[encoded data removed]",
      "text/plain": [
       "<Figure size 1440x864 with 3 Axes>"
      ]
     },
     "metadata": {},
     "output_type": "display_data"
    }
   ],
   "source": [
    "# Filters activations for a sample at critical region.\n",
    "\n",
    "# Index for ordered samples.\n",
    "idx = -1\n",
    "\n",
    "plt.imshow(X_test[disordered_id[idx], : , :, 0], origin='lower', cmap='Purples')\n",
    "plt.axis(False)\n",
    "plt.title(r'$T= $' + str(Y_test[disordered_id[idx], 1]))\n",
    "plt.show()\n",
    "\n",
    "kernels_plot(filters_number, predict[disordered_id[idx], :, :, :])"
   ]
  },
  {
   "cell_type": "markdown",
   "metadata": {},
   "source": [
    "## What CNN is seen"
   ]
  },
  {
   "cell_type": "code",
   "execution_count": 39,
   "metadata": {},
   "outputs": [],
   "source": [
    "import keras.backend as K\n",
    "import cv2\n",
    "import seaborn as sns"
   ]
  },
  {
   "cell_type": "code",
   "execution_count": 40,
   "metadata": {},
   "outputs": [],
   "source": [
    "def Grad_CAM(model_input, class_output, last_conv_layer_output, img, x, L):\n",
    "    \n",
    "    grads = K.gradients(class_output, last_conv_layer_output)[0]\n",
    "    pooled_grads = K.mean(grads, axis=(0, 1, 2))\n",
    "    iterate = K.function([model_input], [pooled_grads, last_conv_layer.output[0]])\n",
    "    pooled_grads_value, conv_layer_output_value = iterate([x])\n",
    "    \n",
    "    for i in range(conv_layer_output_value.shape[-1]):\n",
    "        conv_layer_output_value[:, :, i] *= pooled_grads_value[i]\n",
    "    \n",
    "    heatmap = np.mean(conv_layer_output_value, axis=-1)\n",
    "    heatmap = np.maximum(heatmap, 0)\n",
    "    \n",
    "    if np.max(heatmap) != 0.0:\n",
    "        heatmap /= np.max(heatmap)\n",
    "    \n",
    "    heatmap = cv2.resize(heatmap, (L, L))\n",
    "    heatmap = np.uint8(255 * heatmap)\n",
    "    img = np.uint8(255 * img)\n",
    "    \n",
    "    aux = cv2.GaussianBlur(heatmap,(5,5),0) * 0.6 + img * 0.4\n",
    "    \n",
    "    plt.figure(figsize=[9,9])\n",
    "    \n",
    "    ax = plt.subplot(121)\n",
    "    ax.imshow(aux, origin='lower', cmap='jet')\n",
    "    ax.set_xticks([])\n",
    "    ax.set_yticks([])\n",
    "    \n",
    "    \n",
    "    ax = plt.subplot(122)\n",
    "    \n",
    "    ax.imshow(img, origin='lower', cmap='Purples')\n",
    "    ax.set_xticks([])\n",
    "    ax.set_yticks([])\n",
    "    plt.show()"
   ]
  },
  {
   "cell_type": "code",
   "execution_count": 41,
   "metadata": {},
   "outputs": [],
   "source": [
    "layer_name = model.layers[0].name\n",
    "\n",
    "class_output = model.output[:, 0]\n",
    "last_conv_layer = model.get_layer(layer_name)"
   ]
  },
  {
   "cell_type": "code",
   "execution_count": 42,
   "metadata": {
    "scrolled": true
   },
   "outputs": [
    {
     "name": "stdout",
     "output_type": "stream",
     "text": [
      "CNN prediction:  1.00 \n",
      "True label:  1.00\n"
     ]
    },
    {
     "data": {
      "image/png": "[encoded data removed]",
      "text/plain": [
       "<Figure size 648x648 with 2 Axes>"
      ]
     },
     "metadata": {},
     "output_type": "display_data"
    }
   ],
   "source": [
    "# Critical region.\n",
    "\n",
    "idx = critical_id[-10]\n",
    "\n",
    "x = np.reshape(X_test[idx], (1, L, L , 1))\n",
    "img = x[0,:,:,0]\n",
    "\n",
    "pred_c = model.predict(x)\n",
    "print('CNN prediction: {0:5.2f} \\nTrue label: {1:5.2f}'.format(pred_c[0][0], Y_test[idx, 0]))\n",
    "\n",
    "Grad_CAM(model.input, class_output, last_conv_layer.output, img, x, L)"
   ]
  },
  {
   "cell_type": "code",
   "execution_count": 110,
   "metadata": {},
   "outputs": [
    {
     "name": "stdout",
     "output_type": "stream",
     "text": [
      "CNN prediction:  1.00 \n",
      "True label:  1.00\n"
     ]
    },
    {
     "data": {
      "image/png": "[encoded data removed]",
      "text/plain": [
       "<Figure size 648x648 with 2 Axes>"
      ]
     },
     "metadata": {},
     "output_type": "display_data"
    }
   ],
   "source": [
    "# Ordered region.\n",
    "\n",
    "idx = ordered_id[27]\n",
    "\n",
    "x = np.reshape(X_test[idx], (1, L, L , 1))\n",
    "img = x[0,:,:,0]\n",
    "\n",
    "pred_c = model.predict(x)\n",
    "print('CNN prediction: {0:5.2f} \\nTrue label: {1:5.2f}'.format(pred_c[0][0], Y_test[idx, 0]))\n",
    "\n",
    "Grad_CAM(model.input, class_output, last_conv_layer.output, img, x, L)"
   ]
  },
  {
   "cell_type": "code",
   "execution_count": 44,
   "metadata": {},
   "outputs": [
    {
     "name": "stdout",
     "output_type": "stream",
     "text": [
      "CNN prediction:  0.00 \n",
      "True label:  0.00\n"
     ]
    },
    {
     "data": {
      "image/png": "[encoded data removed]",
      "text/plain": [
       "<Figure size 648x648 with 2 Axes>"
      ]
     },
     "metadata": {},
     "output_type": "display_data"
    }
   ],
   "source": [
    "# Disordered region.\n",
    "\n",
    "idx = disordered_id[10]\n",
    "\n",
    "x = np.reshape(X_test[idx], (1, L, L , 1))\n",
    "img = x[0,:,:,0]\n",
    "\n",
    "pred_c = model.predict(x)\n",
    "print('CNN prediction: {0:5.2f} \\nTrue label: {1:5.2f}'.format(pred_c[0][0], Y_test[idx, 0]))\n",
    "\n",
    "Grad_CAM(model.input, class_output, last_conv_layer.output, img, x, L)"
   ]
  },
  {
   "cell_type": "code",
   "execution_count": 111,
   "metadata": {},
   "outputs": [],
   "source": [
    "quit()"
   ]
  },
  {
   "cell_type": "code",
   "execution_count": null,
   "metadata": {},
   "outputs": [],
   "source": []
  }
 ],
 "metadata": {
  "kernelspec": {
   "display_name": "Python 3",
   "language": "python",
   "name": "python3"
  },
  "language_info": {
   "codemirror_mode": {
    "name": "ipython",
    "version": 3
   },
   "file_extension": ".py",
   "mimetype": "text/x-python",
   "name": "python",
   "nbconvert_exporter": "python",
   "pygments_lexer": "ipython3",
   "version": "3.7.3"
  }
 },
 "nbformat": 4,
 "nbformat_minor": 2
}
