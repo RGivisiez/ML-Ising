{
 "cells": [
  {
   "cell_type": "markdown",
   "metadata": {},
   "source": [
    "# Using DNN to study the Ising model phase transition"
   ]
  },
  {
   "cell_type": "code",
   "execution_count": 1,
   "metadata": {},
   "outputs": [
    {
     "name": "stderr",
     "output_type": "stream",
     "text": [
      "Using TensorFlow backend.\n"
     ]
    }
   ],
   "source": [
    "import pandas as pd\n",
    "import numpy as np\n",
    "import matplotlib.pyplot as plt\n",
    "import pickle,os\n",
    "import tensorflow as tf\n",
    "from tensorflow import keras\n",
    "from keras.models import Sequential\n",
    "from keras.layers import Dense\n",
    "from keras.layers import Dropout\n",
    "from keras import regularizers\n",
    "import sys, os\n",
    "os.environ['TF_CPP_MIN_LOG_LEVEL'] = '2'"
   ]
  },
  {
   "cell_type": "code",
   "execution_count": 2,
   "metadata": {},
   "outputs": [],
   "source": [
    "L = 40\n",
    "samples_number = 10000\n",
    "temperatures = np.arange(0.25, 4.01, 0.25)\n",
    "dataset_size = 100000"
   ]
  },
  {
   "cell_type": "code",
   "execution_count": 3,
   "metadata": {},
   "outputs": [],
   "source": [
    "data = pickle.load(open('Ising2DFM_reSample_L40_T=All.pkl','rb'))\n",
    "X = np.unpackbits(data).astype(int).reshape(-1, L * L)"
   ]
  },
  {
   "cell_type": "code",
   "execution_count": 4,
   "metadata": {},
   "outputs": [],
   "source": [
    "temp_val = np.hstack([np.repeat(temp, samples_number) for temp in temperatures])\n",
    "train_idx = np.random.choice(X.shape[0], size=dataset_size, replace=False)"
   ]
  },
  {
   "cell_type": "code",
   "execution_count": 5,
   "metadata": {},
   "outputs": [],
   "source": [
    "aux = np.arange(X.shape[0])\n",
    "test_idx = np.asarray(list(set(aux).difference(set(train_idx))))"
   ]
  },
  {
   "cell_type": "code",
   "execution_count": 6,
   "metadata": {},
   "outputs": [],
   "source": [
    "Y = np.zeros(temp_val.shape)\n",
    "Y = np.where(temp_val < 2.2691, 1, Y)"
   ]
  },
  {
   "cell_type": "code",
   "execution_count": 7,
   "metadata": {},
   "outputs": [],
   "source": [
    "x_train = X[train_idx]\n",
    "y_label = Y[train_idx]\n",
    "x_test = X[test_idx]\n",
    "y_test = Y[test_idx]\n",
    "del Y, X"
   ]
  },
  {
   "cell_type": "code",
   "execution_count": 8,
   "metadata": {},
   "outputs": [],
   "source": [
    "#x_train = np.where(x_train==0, -1, x_train)"
   ]
  },
  {
   "cell_type": "code",
   "execution_count": 9,
   "metadata": {},
   "outputs": [],
   "source": [
    "model = Sequential()\n",
    "model.add(Dense(100, input_shape=(L * L, ), activation='relu', kernel_regularizer=regularizers.l2(0.01)))\n",
    "model.add(Dropout(0.5))\n",
    "model.add(Dense(1, activation='sigmoid'))"
   ]
  },
  {
   "cell_type": "code",
   "execution_count": 10,
   "metadata": {},
   "outputs": [
    {
     "name": "stdout",
     "output_type": "stream",
     "text": [
      "WARNING:tensorflow:From /home/ronaldo/anaconda3/envs/data/lib/python3.7/site-packages/tensorflow/python/ops/nn_impl.py:180: add_dispatch_support.<locals>.wrapper (from tensorflow.python.ops.array_ops) is deprecated and will be removed in a future version.\n",
      "Instructions for updating:\n",
      "Use tf.where in 2.0, which has the same broadcast rule as np.where\n"
     ]
    }
   ],
   "source": [
    "model.compile(optimizer='adam',\n",
    "              loss='binary_crossentropy',\n",
    "              metrics=['accuracy'])"
   ]
  },
  {
   "cell_type": "code",
   "execution_count": 11,
   "metadata": {},
   "outputs": [
    {
     "name": "stdout",
     "output_type": "stream",
     "text": [
      "Model: \"sequential_1\"\n",
      "_________________________________________________________________\n",
      "Layer (type)                 Output Shape              Param #   \n",
      "=================================================================\n",
      "dense_1 (Dense)              (None, 100)               160100    \n",
      "_________________________________________________________________\n",
      "dropout_1 (Dropout)          (None, 100)               0         \n",
      "_________________________________________________________________\n",
      "dense_2 (Dense)              (None, 1)                 101       \n",
      "=================================================================\n",
      "Total params: 160,201\n",
      "Trainable params: 160,201\n",
      "Non-trainable params: 0\n",
      "_________________________________________________________________\n"
     ]
    }
   ],
   "source": [
    "model.summary()"
   ]
  },
  {
   "cell_type": "code",
   "execution_count": 12,
   "metadata": {},
   "outputs": [
    {
     "name": "stdout",
     "output_type": "stream",
     "text": [
      "WARNING:tensorflow:From /home/ronaldo/anaconda3/envs/data/lib/python3.7/site-packages/keras/backend/tensorflow_backend.py:422: The name tf.global_variables is deprecated. Please use tf.compat.v1.global_variables instead.\n",
      "\n",
      "Train on 90000 samples, validate on 10000 samples\n",
      "Epoch 1/10\n",
      "90000/90000 [==============================] - 3s 38us/step - loss: nan - accuracy: 0.7772 - val_loss: nan - val_accuracy: 0.5623\n",
      "Epoch 2/10\n",
      "90000/90000 [==============================] - 3s 35us/step - loss: nan - accuracy: 0.5640 - val_loss: nan - val_accuracy: 0.5623\n",
      "Epoch 3/10\n",
      "90000/90000 [==============================] - 3s 34us/step - loss: nan - accuracy: 0.5640 - val_loss: nan - val_accuracy: 0.5623\n",
      "Epoch 4/10\n",
      "90000/90000 [==============================] - 3s 34us/step - loss: nan - accuracy: 0.5640 - val_loss: nan - val_accuracy: 0.5623\n",
      "Epoch 5/10\n",
      "90000/90000 [==============================] - 3s 34us/step - loss: nan - accuracy: 0.5640 - val_loss: nan - val_accuracy: 0.5623\n",
      "Epoch 6/10\n",
      "90000/90000 [==============================] - 3s 35us/step - loss: nan - accuracy: 0.5640 - val_loss: nan - val_accuracy: 0.5623\n",
      "Epoch 7/10\n",
      "90000/90000 [==============================] - 3s 35us/step - loss: nan - accuracy: 0.5640 - val_loss: nan - val_accuracy: 0.5623\n",
      "Epoch 8/10\n",
      "90000/90000 [==============================] - 3s 34us/step - loss: nan - accuracy: 0.5640 - val_loss: nan - val_accuracy: 0.5623\n",
      "Epoch 9/10\n",
      "90000/90000 [==============================] - 3s 34us/step - loss: nan - accuracy: 0.5640 - val_loss: nan - val_accuracy: 0.5623\n",
      "Epoch 10/10\n",
      "90000/90000 [==============================] - 3s 34us/step - loss: nan - accuracy: 0.5640 - val_loss: nan - val_accuracy: 0.5623\n"
     ]
    }
   ],
   "source": [
    "history = model.fit(x_train, y_label, validation_split=0.1, batch_size=64,\n",
    "                    workers=8, use_multiprocessing=True, epochs=10)"
   ]
  },
  {
   "cell_type": "code",
   "execution_count": 13,
   "metadata": {},
   "outputs": [],
   "source": [
    "score = model.evaluate(x_test, y_test, verbose=0)"
   ]
  },
  {
   "cell_type": "code",
   "execution_count": 14,
   "metadata": {},
   "outputs": [
    {
     "data": {
      "image/png": "[encoded data removed]",
      "text/plain": [
       "<Figure size 432x288 with 1 Axes>"
      ]
     },
     "metadata": {
      "needs_background": "light"
     },
     "output_type": "display_data"
    }
   ],
   "source": [
    "# Plot training & validation accuracy values\n",
    "plt.plot(history.history['loss'])\n",
    "plt.plot(history.history['val_loss'])\n",
    "plt.title('Model accuracy')\n",
    "plt.ylabel('Loss')\n",
    "plt.xlabel('Epoch')\n",
    "plt.legend(['Train', 'Validation'], loc='upper left')\n",
    "plt.show()"
   ]
  },
  {
   "cell_type": "code",
   "execution_count": 15,
   "metadata": {},
   "outputs": [
    {
     "data": {
      "image/png": "[encoded data removed]",
      "text/plain": [
       "<Figure size 432x288 with 1 Axes>"
      ]
     },
     "metadata": {
      "needs_background": "light"
     },
     "output_type": "display_data"
    }
   ],
   "source": [
    "# Plot training & validation accuracy values\n",
    "plt.plot(history.history['accuracy'])\n",
    "plt.plot(history.history['val_accuracy'])\n",
    "plt.title('Model accuracy')\n",
    "plt.ylabel('Accuracy')\n",
    "plt.xlabel('Epoch')\n",
    "plt.legend(['Train', 'Validation'], loc='upper left')\n",
    "plt.show()"
   ]
  },
  {
   "cell_type": "code",
   "execution_count": 16,
   "metadata": {},
   "outputs": [
    {
     "data": {
      "text/plain": [
       "(nan, 0.5603333115577698)"
      ]
     },
     "execution_count": 16,
     "metadata": {},
     "output_type": "execute_result"
    }
   ],
   "source": [
    "score[0], score[1]"
   ]
  }
 ],
 "metadata": {
  "kernelspec": {
   "display_name": "Python 3",
   "language": "python",
   "name": "python3"
  },
  "language_info": {
   "codemirror_mode": {
    "name": "ipython",
    "version": 3
   },
   "file_extension": ".py",
   "mimetype": "text/x-python",
   "name": "python",
   "nbconvert_exporter": "python",
   "pygments_lexer": "ipython3",
   "version": "3.7.3"
  }
 },
 "nbformat": 4,
 "nbformat_minor": 2
}
