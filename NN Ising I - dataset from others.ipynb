{
 "cells": [
  {
   "cell_type": "markdown",
   "metadata": {},
   "source": [
    "# Using NN to study the Ising model phase transition"
   ]
  },
  {
   "cell_type": "markdown",
   "metadata": {},
   "source": [
    "Notebook based on the paper:\n",
    "\n",
    "**Machine learning phases of matter.** ([Link](http://arxiv.org/abs/1605.01735%0Ahttp://dx.doi.org/10.1038/nphys4035))"
   ]
  },
  {
   "cell_type": "code",
   "execution_count": 1,
   "metadata": {},
   "outputs": [
    {
     "name": "stderr",
     "output_type": "stream",
     "text": [
      "Using TensorFlow backend.\n"
     ]
    }
   ],
   "source": [
    "import pandas as pd\n",
    "import numpy as np\n",
    "import matplotlib.pyplot as plt\n",
    "import pickle,os\n",
    "import tensorflow as tf\n",
    "from tensorflow import keras\n",
    "from keras.models import Sequential\n",
    "from keras.layers import Dense\n",
    "from keras.layers import Dropout\n",
    "from keras import regularizers\n",
    "from keras import optimizers\n",
    "import sys, os\n",
    "from sklearn.model_selection import train_test_split\n",
    "from keras.utils import to_categorical\n",
    "os.environ['TF_CPP_MIN_LOG_LEVEL'] = '2'"
   ]
  },
  {
   "cell_type": "code",
   "execution_count": 2,
   "metadata": {},
   "outputs": [],
   "source": [
    "plt.rcParams['figure.figsize'] = [6.32, 5.11]\n",
    "plt.rcParams['figure.constrained_layout.use'] = True\n",
    "\n",
    "plt.rcParams['axes.titlesize'] = 20\n",
    "plt.rcParams['axes.labelsize'] = 20\n",
    "plt.rcParams['axes.linewidth'] = 3\n",
    "plt.rcParams['axes.labelpad'] = 15\n",
    "\n",
    "plt.rcParams['xtick.labelsize'] = 16\n",
    "plt.rcParams['xtick.major.size'] = 8\n",
    "plt.rcParams['xtick.major.width'] = 3\n",
    "\n",
    "plt.rcParams['ytick.labelsize'] = 16\n",
    "plt.rcParams['ytick.major.size'] = 8\n",
    "plt.rcParams['ytick.major.width'] = 3\n",
    "\n",
    "plt.rcParams['legend.fontsize'] = 14\n",
    "plt.rcParams['legend.markerscale'] = 1\n",
    "\n",
    "plt.rcParams['lines.markersize'] = 9\n",
    "plt.rcParams['lines.linewidth'] = 2"
   ]
  },
  {
   "cell_type": "code",
   "execution_count": 3,
   "metadata": {},
   "outputs": [],
   "source": [
    "path = '../Data/'"
   ]
  },
  {
   "cell_type": "code",
   "execution_count": 4,
   "metadata": {},
   "outputs": [],
   "source": [
    "L = 40\n",
    "temp_val = np.arange(0.25, 4.0001, 0.25)\n",
    "temp_samples = 10000\n",
    "total_samples = temp_samples * temp_val.shape[0]\n",
    "test_size = 0.1\n",
    "val_size = 0.2"
   ]
  },
  {
   "cell_type": "code",
   "execution_count": 5,
   "metadata": {},
   "outputs": [],
   "source": [
    "split_tc = True"
   ]
  },
  {
   "cell_type": "code",
   "execution_count": 6,
   "metadata": {},
   "outputs": [],
   "source": [
    "data = pickle.load(open(path + 'Ising2DFM_reSample_L40_T=All.pkl','rb'))\n",
    "data = np.unpackbits(data).reshape(-1, L * L).astype(int)\n",
    "data[np.where(data==0)]=-1\n",
    "\n",
    "labels = pickle.load(open(path + 'Ising2DFM_reSample_L40_T=All_labels.pkl','rb'))"
   ]
  },
  {
   "cell_type": "code",
   "execution_count": 7,
   "metadata": {},
   "outputs": [],
   "source": [
    "first_tc = np.where(temp_val <= 2.)[0][-1] * temp_samples\n",
    "last_tc = np.where(temp_val >= 3)[0][1] * temp_samples"
   ]
  },
  {
   "cell_type": "code",
   "execution_count": 8,
   "metadata": {},
   "outputs": [],
   "source": [
    "temp_labels = np.hstack([np.repeat(temp, temp_samples) for temp in temp_val])"
   ]
  },
  {
   "cell_type": "code",
   "execution_count": 9,
   "metadata": {},
   "outputs": [],
   "source": [
    "if split_tc:\n",
    "    \n",
    "    X_ordered = data[:first_tc, :]\n",
    "    Y_ordered = np.column_stack((labels[:first_tc], temp_labels[:first_tc]))\n",
    "\n",
    "    X_critical = data[first_tc:last_tc, :]\n",
    "    Y_critical = np.column_stack((labels[first_tc:last_tc], temp_labels[first_tc:last_tc]))\n",
    "\n",
    "    X_disordered = data[last_tc:, :]\n",
    "    Y_disordered = np.column_stack((labels[last_tc:], temp_labels[last_tc:]))\n",
    "\n",
    "    X = np.concatenate((X_ordered, X_disordered))\n",
    "    Y = np.concatenate((Y_ordered, Y_disordered))\n",
    "    \n",
    "    del X_ordered, Y_ordered, X_disordered, Y_disordered, data, labels\n",
    "\n",
    "else:\n",
    "    \n",
    "    X = data\n",
    "    Y = np.column_stack((labels, temp_labels))\n",
    "    \n",
    "    del data, labels"
   ]
  },
  {
   "cell_type": "code",
   "execution_count": 10,
   "metadata": {},
   "outputs": [],
   "source": [
    "X_train, X_test, Y_train, Y_test = train_test_split(X, Y, test_size=test_size)\n",
    "\n",
    "X_train, X_val, Y_train, Y_val = train_test_split(X_train, Y_train, test_size=val_size)\n",
    "\n",
    "del X, Y"
   ]
  },
  {
   "cell_type": "code",
   "execution_count": 11,
   "metadata": {},
   "outputs": [
    {
     "name": "stdout",
     "output_type": "stream",
     "text": [
      "WARNING:tensorflow:From /home/ronaldo/anaconda3/envs/data/lib/python3.7/site-packages/tensorflow/python/ops/nn_impl.py:180: add_dispatch_support.<locals>.wrapper (from tensorflow.python.ops.array_ops) is deprecated and will be removed in a future version.\n",
      "Instructions for updating:\n",
      "Use tf.where in 2.0, which has the same broadcast rule as np.where\n"
     ]
    }
   ],
   "source": [
    "model = Sequential()\n",
    "model.add(Dense(100, input_shape=(L * L, ), activation='relu', kernel_regularizer=regularizers.l2(0.01)))\n",
    "model.add(Dropout(0.15))\n",
    "model.add(Dense(1, activation='sigmoid'))\n",
    "\n",
    "model.compile(optimizer='adam',\n",
    "              loss='binary_crossentropy',\n",
    "              metrics=['accuracy'])"
   ]
  },
  {
   "cell_type": "code",
   "execution_count": 12,
   "metadata": {},
   "outputs": [
    {
     "name": "stdout",
     "output_type": "stream",
     "text": [
      "Model: \"sequential_1\"\n",
      "_________________________________________________________________\n",
      "Layer (type)                 Output Shape              Param #   \n",
      "=================================================================\n",
      "dense_1 (Dense)              (None, 100)               160100    \n",
      "_________________________________________________________________\n",
      "dropout_1 (Dropout)          (None, 100)               0         \n",
      "_________________________________________________________________\n",
      "dense_2 (Dense)              (None, 1)                 101       \n",
      "=================================================================\n",
      "Total params: 160,201\n",
      "Trainable params: 160,201\n",
      "Non-trainable params: 0\n",
      "_________________________________________________________________\n"
     ]
    }
   ],
   "source": [
    "model.summary()"
   ]
  },
  {
   "cell_type": "code",
   "execution_count": 13,
   "metadata": {
    "scrolled": false
   },
   "outputs": [
    {
     "name": "stdout",
     "output_type": "stream",
     "text": [
      "WARNING:tensorflow:From /home/ronaldo/anaconda3/envs/data/lib/python3.7/site-packages/keras/backend/tensorflow_backend.py:422: The name tf.global_variables is deprecated. Please use tf.compat.v1.global_variables instead.\n",
      "\n",
      "Train on 79200 samples, validate on 19800 samples\n",
      "Epoch 1/5\n",
      "79200/79200 [==============================] - 3s 39us/step - loss: 0.2259 - accuracy: 0.9891 - val_loss: 0.0156 - val_accuracy: 0.9996\n",
      "Epoch 2/5\n",
      "79200/79200 [==============================] - 3s 36us/step - loss: 0.0171 - accuracy: 0.9994 - val_loss: 0.0145 - val_accuracy: 0.9996\n",
      "Epoch 3/5\n",
      "79200/79200 [==============================] - 3s 36us/step - loss: 0.0183 - accuracy: 0.9994 - val_loss: 0.0091 - val_accuracy: 0.9994\n",
      "Epoch 4/5\n",
      "79200/79200 [==============================] - 3s 36us/step - loss: 0.0284 - accuracy: 0.9988 - val_loss: 0.0293 - val_accuracy: 0.9991\n",
      "Epoch 5/5\n",
      "79200/79200 [==============================] - 3s 36us/step - loss: 0.0258 - accuracy: 0.9989 - val_loss: 0.0121 - val_accuracy: 0.9995\n"
     ]
    }
   ],
   "source": [
    "history = model.fit(X_train, Y_train[:, 0], validation_data=(X_val, Y_val[:, 0]) , batch_size=64, epochs=5)"
   ]
  },
  {
   "cell_type": "code",
   "execution_count": 14,
   "metadata": {},
   "outputs": [],
   "source": [
    "score = model.evaluate(X_test, Y_test[:, 0], verbose=0)"
   ]
  },
  {
   "cell_type": "code",
   "execution_count": 15,
   "metadata": {},
   "outputs": [
    {
     "name": "stdout",
     "output_type": "stream",
     "text": [
      "Test accuracy: 0.9995 \n",
      "Test loss: 0.0119\n"
     ]
    }
   ],
   "source": [
    "print('Test accuracy: {1:6.4f} \\nTest loss: {0:6.4f}'.format(score[0], score[1]))"
   ]
  },
  {
   "cell_type": "code",
   "execution_count": 16,
   "metadata": {},
   "outputs": [
    {
     "data": {
      "image/png": "[encoded data removed]",
      "text/plain": [
       "<Figure size 455.04x367.92 with 1 Axes>"
      ]
     },
     "metadata": {
      "needs_background": "light"
     },
     "output_type": "display_data"
    }
   ],
   "source": [
    "# Plot training & validation accuracy values\n",
    "plt.plot(history.history['loss'])\n",
    "plt.plot(history.history['val_loss'])\n",
    "plt.title('Model accuracy')\n",
    "plt.ylabel('Loss')\n",
    "plt.xlabel('Epoch')\n",
    "plt.legend(['Train', 'Validation'], loc='upper right')\n",
    "plt.show()"
   ]
  },
  {
   "cell_type": "code",
   "execution_count": 17,
   "metadata": {},
   "outputs": [
    {
     "data": {
      "image/png": "[encoded data removed]",
      "text/plain": [
       "<Figure size 455.04x367.92 with 1 Axes>"
      ]
     },
     "metadata": {
      "needs_background": "light"
     },
     "output_type": "display_data"
    }
   ],
   "source": [
    "# Plot training & validation accuracy values\n",
    "plt.plot(history.history['accuracy'])\n",
    "plt.plot(history.history['val_accuracy'])\n",
    "plt.title('Model accuracy')\n",
    "plt.ylabel('Accuracy')\n",
    "plt.xlabel('Epoch')\n",
    "plt.legend(['Train', 'Validation'], loc='lower right')\n",
    "plt.show()"
   ]
  },
  {
   "cell_type": "code",
   "execution_count": 18,
   "metadata": {},
   "outputs": [],
   "source": [
    "res_test = model.predict(X_test)\n",
    "res_tc = model.predict(X_critical)"
   ]
  },
  {
   "cell_type": "code",
   "execution_count": 19,
   "metadata": {},
   "outputs": [],
   "source": [
    "f_tc = int(first_tc / temp_samples)\n",
    "l_tc = int(last_tc / temp_samples)"
   ]
  },
  {
   "cell_type": "code",
   "execution_count": 20,
   "metadata": {},
   "outputs": [
    {
     "data": {
      "image/png": "[encoded data removed]",
      "text/plain": [
       "<Figure size 455.04x367.92 with 1 Axes>"
      ]
     },
     "metadata": {
      "needs_background": "light"
     },
     "output_type": "display_data"
    }
   ],
   "source": [
    "acc = np.zeros(temp_val.shape[0])\n",
    "acc_std = np.zeros(temp_val.shape[0])\n",
    "\n",
    "for idx, temp in enumerate(temp_val):\n",
    "    \n",
    "    if temp < temp_val[f_tc] or temp >= temp_val[l_tc]:\n",
    "        \n",
    "        pos = np.argwhere(Y_test[:, 1] == temp)[:, 0]\n",
    "    \n",
    "        aux = res_test[pos, 0] - Y_test[pos, 0]\n",
    "        acc[idx] = np.mean(np.abs(aux))\n",
    "        acc_std[idx] = np.std(np.abs(aux))\n",
    "        \n",
    "    else:\n",
    "       \n",
    "        pos = np.argwhere(Y_critical[:, 1] == temp)[:, 0]\n",
    "    \n",
    "        aux = res_tc[pos, 0] - Y_critical[pos, 0]\n",
    "        acc[idx] = np.mean(np.abs(aux))\n",
    "        acc_std[idx] = np.std(np.abs(aux))\n",
    "    \n",
    "    \n",
    "plt.errorbar(x=temp_val, y=acc,\n",
    "             yerr=acc_std, fmt='o', capsize=5)\n",
    "\n",
    "plt.xlabel('Temperature')\n",
    "plt.ylabel('Accuracy')\n",
    "plt.show()"
   ]
  },
  {
   "cell_type": "code",
   "execution_count": 21,
   "metadata": {},
   "outputs": [
    {
     "data": {
      "image/png": "[encoded data removed]",
      "text/plain": [
       "<Figure size 455.04x367.92 with 1 Axes>"
      ]
     },
     "metadata": {
      "needs_background": "light"
     },
     "output_type": "display_data"
    }
   ],
   "source": [
    "#%matplotlib notebook\n",
    "output_mean = np.zeros(temp_val.shape[0])\n",
    "output_std = np.zeros(temp_val.shape[0])\n",
    "\n",
    "for idx, temp in enumerate(temp_val):\n",
    "    \n",
    "    if temp < temp_val[f_tc] or temp >= temp_val[l_tc]:\n",
    "        \n",
    "        pos = np.argwhere(Y_test[:, 1] == temp)[:, 0]\n",
    "    \n",
    "        output_mean[idx] = np.mean(res_test[pos])\n",
    "        output_std[idx] = np.std(res_test[pos])\n",
    "    \n",
    "    else:\n",
    "    \n",
    "        pos = np.argwhere(Y_critical[:, 1] == temp)[:, 0]\n",
    "        \n",
    "        output_mean[idx] = np.mean(res_tc[pos])\n",
    "        output_std[idx] = np.std(res_tc[pos])\n",
    "    \n",
    "    \n",
    "plt.errorbar(x=temp_val, y=output_mean, yerr=output_std,\n",
    "             fmt='o', capsize=5, linestyle='--')\n",
    "\n",
    "plt.errorbar(x=temp_val, y=np.abs(output_mean - 1),\n",
    "             yerr=output_std, fmt='o', capsize=5, linestyle='--')\n",
    "\n",
    "plt.ylabel('Output')\n",
    "plt.xlabel('Temperature')\n",
    "plt.show()"
   ]
  },
  {
   "cell_type": "code",
   "execution_count": null,
   "metadata": {},
   "outputs": [],
   "source": []
  }
 ],
 "metadata": {
  "kernelspec": {
   "display_name": "Python 3",
   "language": "python",
   "name": "python3"
  },
  "language_info": {
   "codemirror_mode": {
    "name": "ipython",
    "version": 3
   },
   "file_extension": ".py",
   "mimetype": "text/x-python",
   "name": "python",
   "nbconvert_exporter": "python",
   "pygments_lexer": "ipython3",
   "version": "3.7.3"
  }
 },
 "nbformat": 4,
 "nbformat_minor": 2
}
